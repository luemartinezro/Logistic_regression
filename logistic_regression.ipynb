{
 "cells": [
  {
   "cell_type": "markdown",
   "metadata": {},
   "source": [
    "# Logistic Regression: A Powerful Tool for classification Analytics"
   ]
  },
  {
   "cell_type": "markdown",
   "metadata": {},
   "source": [
    "### What is logistic regression?\n",
    "\n",
    "\n",
    "Logistic regression is a statistical method used for binary classification, meaning a result has two possible values (e.g., yes/no, success/failure, default/no default). It models the probability of a binary outcome (that is, an outcome that can take one of two possible values, typically coded as 0 and 1) based on one or more predictor variables. Where the response default falls into one of two categories, Yes or No. Instead of directly modeling this response $Y$ logistic regression models the probability that $Y$ belongs to a particular category.\n",
    "\n",
    "\n",
    "When applied to data, logistic regression models the probability of default (non-payment of a debt). Thus, we can use this idea for a financial problem, for example, to predict the probability that a customer will fail to meet their payment obligations, based on specific data, such as the balance of their account. Therefore, the probability of default, given the account balance, can be written as:\n",
    "\n",
    "\n",
    "$Pr(default=yes|balance)$  $~~~~~~~~~~~~~~~~~~~~~~~~~~~~~~~$    (1)\n",
    "\n",
    "The values p(balance), will range between 0 and 1. This means that, for any given account balance, the probability of default can be predicted. For example, one might predict $defaul=Yes$, for any individual for whom $p(balance) > 0.5$. Alternatively, if a company wants to be conservative when predicting individuals at risk of default, it might choose to use a lower threshold, such as  $p(balance) > 0.1$.\n",
    "\n",
    "Logistic regression is widely used in various fields such as medicine, social sciences, and machine learning for binary classification tasks."
   ]
  },
  {
   "cell_type": "markdown",
   "metadata": {},
   "source": [
    "###  Assumptions of Logistic Regression\n",
    "\n",
    "Logistic regression is a statistical method used to analyze data with binary outcomes (like yes/no or 1/0) and determine the relationship between those outcomes and independent variables. There are several key assumptions for logistic regression:\n",
    "\n",
    "* Binary Dependent Variable: The method is designed for dependent variables with two categories. If the outcome has more than two categories, other methods like multinomial logistic regression are required.\n",
    "\n",
    "* Independent Observations: Each data point should be independent of the others, meaning there should be no repeated measurements or clustering within the data.\n",
    "\n",
    "* Linearity in the Logit: The relationship between the independent variables and the logit (log-odds) of the dependent variable should be linear. This means that while the outcome itself may not have a linear relationship with the independent variables, the log-odds should.\n",
    "\n",
    "* No Multicollinearity: The independent variables should not be highly correlated with each other. High correlation between variables (multicollinearity) can make the model unstable and hard to interpret.\n",
    "\n",
    "* Absence of Outliers: Outliers can significantly influence the model, so it's important to check for and address any outliers that might distort the results.\n",
    "\n",
    "* Adequate Sample Size: Logistic regression requires a reasonably large sample size to ensure reliable parameter estimates. A common guideline is to have at least 10 observations for each independent variable."
   ]
  },
  {
   "cell_type": "markdown",
   "metadata": {},
   "source": [
    "### The Logistic Model\n",
    "In the model the idea is explain ther relationship between $p(x) = Pr(Y=1|X)$ y $X$. In this case, we could use a linear regression model to represent these probabilities: \n"
   ]
  },
  {
   "cell_type": "markdown",
   "metadata": {},
   "source": [
    "\n",
    "\n",
    "\n",
    "\n",
    "\n",
    "$p(X) = \\beta_{0} + \\beta_{1}X$   $~~~~~~~~~~~~~~~~~~~~~~~~~~~~~~~$    (2)\n"
   ]
  },
  {
   "cell_type": "markdown",
   "metadata": {},
   "source": [
    "If we use this approach to predict $default=Yes$ using balance, then we obtain the model shown in the left-hand panel of Figure 1. In the figure, it's easy to see the problem with this approach, for balances close to zero we predict a negative probability of default. Also, if we were to predict very large balances, then, most probably we get values bigger than 1. In theory, the true probability of default, regardless of credit card balance, must fall between 0 and 1. \n",
    "\n"
   ]
  },
  {
   "cell_type": "markdown",
   "metadata": {},
   "source": [
    "![logistic_regression.jpg](logistic_regression.jpg)"
   ]
  },
  {
   "cell_type": "markdown",
   "metadata": {},
   "source": [
    "It's very important to consider that this problem is not unique to the credit card default data. Any time a straight line is fit to a binary response that is coded as 0 or 1, in principle we can always predict $P(X)<0$ for some values of $X$ and $P(X)>1$ for others (range between 0 and 1). To avoid this problem, we must model $P(X)$ using a fucntion that gives outputs between 0 an 1 for all values of $X$.In particularly, in logistic regression, we use the logistic function:"
   ]
  },
  {
   "cell_type": "markdown",
   "metadata": {},
   "source": [
    "$P(X) = \\frac{e^{\\beta_{0}+\\beta_{1}X}}{1+e^{\\beta_{0}+\\beta_{1}X}}$  $~~~~~~~~~~~~~~~~~~$    (3)"
   ]
  },
  {
   "cell_type": "markdown",
   "metadata": {},
   "source": [
    "In the right-hand panel of Figure 1, we see how well the logistic regression model fits the default data. For low balances, the model predicts probabilities of default that are close to zero but never actually reach zero. Similarly, for high balances, the predicted default probabilities are close to one but never exactly one. This happens because the logistic function always creates an S-shaped curve, ensuring that predictions are reasonable for any balance amount. Compared to the linear regression model shown in the left-hand plot, the logistic regression model is better at capturing the full range of probabilities, making it a more accurate tool for this type of prediction.\n",
    "\n",
    "\n",
    "After a bit of maniputation of (3), we find that:\n"
   ]
  },
  {
   "cell_type": "markdown",
   "metadata": {},
   "source": [
    "$\\frac{P(X)}{1-P(X)}=e^{\\beta_{0}+\\beta_{1}X}$   $~~~~~~~~~~~~~~~~~~$    (4)"
   ]
  },
  {
   "cell_type": "markdown",
   "metadata": {},
   "source": [
    "The quantity $P(X)/[1-P(X)]$ is called the odds, and can take on any value between 0 and $\\infty$. Values of the odds close to 0 and $\\infty$ indicate very low and very high probabilities of default, respectively.\n"
   ]
  },
  {
   "cell_type": "markdown",
   "metadata": {},
   "source": [
    "The issue with a restricted range is that it reduces the number of data points, leading to a decreased correlation. When the range is limited, it's challenging to model the variable accurately. To address this, we use the log of odds, which extends the range from negative infinity to positive infinity (-∞, +∞), allowing for a more effective and accurate modeling of the data."
   ]
  },
  {
   "cell_type": "markdown",
   "metadata": {},
   "source": [
    "$log(\\frac{P}{1-P})= \\beta_{0} + \\beta_{1}X_{1} + \\beta_{2}X_{2}+...+\\beta_{i}X_{i}$ $~~~~~~~~$    (5)"
   ]
  },
  {
   "cell_type": "markdown",
   "metadata": {},
   "source": [
    "The leaf-hand side is called the log odds or logit. The logistic regression model (3) has la logit that is linear in $X$."
   ]
  },
  {
   "cell_type": "markdown",
   "metadata": {},
   "source": [
    "### The key points defining logistic regression:\n",
    "\n",
    "1) Binary Outcome: The dependent variable (outcome) is binary, meaning it has two possible values. For example, it can represent \"success\" or \"failure,\" \"yes\" or \"no,\" \"true\" or \"false.\"\n",
    "\n",
    "2) Logistic Function: Logistic regression uses the logistic function (also known as the sigmoid function) to model the probability of the binary outcome. The logistic function is defined as:\n",
    "\n",
    "$\\delta(z)= \\frac{1}{1 + e^{-z}}$                 $~~~~~~~~~~~~~~~~~~$    (6)\n",
    "\n",
    "where $z$ is the linear combination of the predictor variables.\n",
    "\n",
    "3) Linear Combination of Predictors: The logistic regression model predicts the log-odds of the probability of the outcome as a linear combination of the predictor variables. The model can be expressed as equation (5).\n",
    "\n",
    "Where $P$ is the probability of the outcome, $\\beta_{0}$ is the intercept, $\\beta_{1}, \\beta_{2}, \\beta_{i}$ are the coeficients of the predictor variables $X_{1}, X_{2}, X_{i}$.\n",
    "\n",
    "\n",
    "5) Maximum Likelihood Estimation (MLE): The coefficients of the model are estimated using maximum likelihood estimation, which finds the parameter values that maximize the likelihood of observing the given data.\n",
    "\n",
    "6) Interpretation of Coefficients: The coefficients in a logistic regression model can be interpreted in terms of odds ratios. For a given predictor variable $X_{i}$, the coefficient $\\beta_{i}$, represents the change in the log-odds of the outcome for a one-unit change in $X_{i}$, holding all other predictors constant.\n",
    "\n",
    "7) Model Evaluation: Common metrics for evaluating the performance of a logistic regression model include accuracy, precision, recall, F1 score, and the area under the Receiver Operating Characteristic (ROC) curve (AUC-ROC)."
   ]
  },
  {
   "cell_type": "markdown",
   "metadata": {},
   "source": [
    "### Logistic Regression Application\n",
    "\n",
    "\n",
    "In the application, data taken from a credit score analysis on Kaggle (credit score classification dataset) is used.\n",
    "\n",
    "The variables in the dataset are quite common in credit scoring processes, as they are socio-economic variables. These include: age, gender, income, education, marital status, number of children, home ownership, and credit score. The goal with these variables is to try to categorize the client and determine if they are a good payer or not (fall into default).\n",
    "\n",
    "It is important to note that the initial dataset has three categories in the dependent variable (credit score): High, Average, and Other. These were grouped into two categories: 1 (High) and 0 (Average, Other). The following steps were carried out for the modeling process:\n",
    "\n",
    "a) Data loading\n",
    "\n",
    "b) Basic reviews\n",
    "\n",
    "c) Variable transformation:\n",
    "\n",
    "* Categorization\n",
    "* Normalization\n",
    "\n",
    "d) Splitting variables: train and test\n",
    "\n",
    "e) Modeling and results"
   ]
  },
  {
   "cell_type": "code",
   "execution_count": 42,
   "metadata": {},
   "outputs": [],
   "source": [
    "# Analysis\n",
    "import numpy as np \n",
    "import pandas as pd \n",
    "import matplotlib.pyplot as plt\n",
    "import seaborn as sns\n",
    "\n",
    "# Algorithmes\n",
    "from sklearn.preprocessing import MinMaxScaler\n",
    "from sklearn.model_selection import train_test_split\n",
    "from sklearn.metrics import confusion_matrix , classification_report\n",
    "from sklearn.preprocessing import LabelEncoder\n",
    "\n",
    "from sklearn.metrics import accuracy_score,roc_auc_score,roc_curve\n",
    "from sklearn.linear_model import LogisticRegression\n",
    "from typing import Any\n",
    "import warnings\n",
    "warnings.filterwarnings(action='ignore')"
   ]
  },
  {
   "cell_type": "code",
   "execution_count": 43,
   "metadata": {},
   "outputs": [
    {
     "data": {
      "text/html": [
       "<div>\n",
       "<style scoped>\n",
       "    .dataframe tbody tr th:only-of-type {\n",
       "        vertical-align: middle;\n",
       "    }\n",
       "\n",
       "    .dataframe tbody tr th {\n",
       "        vertical-align: top;\n",
       "    }\n",
       "\n",
       "    .dataframe thead th {\n",
       "        text-align: right;\n",
       "    }\n",
       "</style>\n",
       "<table border=\"1\" class=\"dataframe\">\n",
       "  <thead>\n",
       "    <tr style=\"text-align: right;\">\n",
       "      <th></th>\n",
       "      <th>Age</th>\n",
       "      <th>Gender</th>\n",
       "      <th>Income</th>\n",
       "      <th>Education</th>\n",
       "      <th>Marital Status</th>\n",
       "      <th>Number of Children</th>\n",
       "      <th>Home Ownership</th>\n",
       "      <th>Credit Score</th>\n",
       "    </tr>\n",
       "  </thead>\n",
       "  <tbody>\n",
       "    <tr>\n",
       "      <th>0</th>\n",
       "      <td>25</td>\n",
       "      <td>Female</td>\n",
       "      <td>50000</td>\n",
       "      <td>Bachelor's Degree</td>\n",
       "      <td>Single</td>\n",
       "      <td>0</td>\n",
       "      <td>Rented</td>\n",
       "      <td>High</td>\n",
       "    </tr>\n",
       "    <tr>\n",
       "      <th>1</th>\n",
       "      <td>30</td>\n",
       "      <td>Male</td>\n",
       "      <td>100000</td>\n",
       "      <td>Master's Degree</td>\n",
       "      <td>Married</td>\n",
       "      <td>2</td>\n",
       "      <td>Owned</td>\n",
       "      <td>High</td>\n",
       "    </tr>\n",
       "    <tr>\n",
       "      <th>2</th>\n",
       "      <td>35</td>\n",
       "      <td>Female</td>\n",
       "      <td>75000</td>\n",
       "      <td>Doctorate</td>\n",
       "      <td>Married</td>\n",
       "      <td>1</td>\n",
       "      <td>Owned</td>\n",
       "      <td>High</td>\n",
       "    </tr>\n",
       "    <tr>\n",
       "      <th>3</th>\n",
       "      <td>40</td>\n",
       "      <td>Male</td>\n",
       "      <td>125000</td>\n",
       "      <td>High School Diploma</td>\n",
       "      <td>Single</td>\n",
       "      <td>0</td>\n",
       "      <td>Owned</td>\n",
       "      <td>High</td>\n",
       "    </tr>\n",
       "    <tr>\n",
       "      <th>4</th>\n",
       "      <td>45</td>\n",
       "      <td>Female</td>\n",
       "      <td>100000</td>\n",
       "      <td>Bachelor's Degree</td>\n",
       "      <td>Married</td>\n",
       "      <td>3</td>\n",
       "      <td>Owned</td>\n",
       "      <td>High</td>\n",
       "    </tr>\n",
       "  </tbody>\n",
       "</table>\n",
       "</div>"
      ],
      "text/plain": [
       "   Age  Gender  Income            Education Marital Status  \\\n",
       "0   25  Female   50000    Bachelor's Degree         Single   \n",
       "1   30    Male  100000      Master's Degree        Married   \n",
       "2   35  Female   75000            Doctorate        Married   \n",
       "3   40    Male  125000  High School Diploma         Single   \n",
       "4   45  Female  100000    Bachelor's Degree        Married   \n",
       "\n",
       "   Number of Children Home Ownership Credit Score  \n",
       "0                   0         Rented         High  \n",
       "1                   2          Owned         High  \n",
       "2                   1          Owned         High  \n",
       "3                   0          Owned         High  \n",
       "4                   3          Owned         High  "
      ]
     },
     "execution_count": 43,
     "metadata": {},
     "output_type": "execute_result"
    }
   ],
   "source": [
    "# load the data\n",
    "df = pd.read_csv('Credit_Score_Dataset.csv')\n",
    "df.head()"
   ]
  },
  {
   "cell_type": "markdown",
   "metadata": {},
   "source": [
    "####  Basic dataset reviews\n",
    "\n",
    "The idea is create a simple review to know data types, null values, uniques in the dataset. In this example, doesn't exist an issue with the data."
   ]
  },
  {
   "cell_type": "code",
   "execution_count": 47,
   "metadata": {},
   "outputs": [
    {
     "name": "stdout",
     "output_type": "stream",
     "text": [
      "<class 'pandas.core.frame.DataFrame'>\n",
      "RangeIndex: 164 entries, 0 to 163\n",
      "Data columns (total 8 columns):\n",
      " #   Column              Non-Null Count  Dtype \n",
      "---  ------              --------------  ----- \n",
      " 0   Age                 164 non-null    int64 \n",
      " 1   Gender              164 non-null    object\n",
      " 2   Income              164 non-null    int64 \n",
      " 3   Education           164 non-null    object\n",
      " 4   Marital Status      164 non-null    object\n",
      " 5   Number of Children  164 non-null    int64 \n",
      " 6   Home Ownership      164 non-null    object\n",
      " 7   Credit Score        164 non-null    object\n",
      "dtypes: int64(3), object(5)\n",
      "memory usage: 10.4+ KB\n"
     ]
    }
   ],
   "source": [
    "# check the data types\n",
    "df.info()\n",
    "\n"
   ]
  },
  {
   "cell_type": "code",
   "execution_count": 51,
   "metadata": {},
   "outputs": [
    {
     "data": {
      "text/plain": [
       "Age                   0\n",
       "Gender                0\n",
       "Income                0\n",
       "Education             0\n",
       "Marital Status        0\n",
       "Number of Children    0\n",
       "Home Ownership        0\n",
       "Credit Score          0\n",
       "dtype: int64"
      ]
     },
     "execution_count": 51,
     "metadata": {},
     "output_type": "execute_result"
    }
   ],
   "source": [
    "# null values review\n",
    "df.isnull().sum()"
   ]
  },
  {
   "cell_type": "code",
   "execution_count": 53,
   "metadata": {},
   "outputs": [
    {
     "data": {
      "text/plain": [
       "Age                   29\n",
       "Gender                 2\n",
       "Income                52\n",
       "Education              5\n",
       "Marital Status         2\n",
       "Number of Children     4\n",
       "Home Ownership         2\n",
       "Credit Score           3\n",
       "dtype: int64"
      ]
     },
     "execution_count": 53,
     "metadata": {},
     "output_type": "execute_result"
    }
   ],
   "source": [
    "# duplicate review\n",
    "df.nunique()"
   ]
  },
  {
   "cell_type": "markdown",
   "metadata": {},
   "source": [
    "#### Transfomation of variables\n",
    "\n",
    "In linear regression, transforming variables from objects to categories helps in simplifying and improving the model. Objects, like strings or text, can't be directly used in mathematical calculations, which are essential for regression. By converting these variables into categories, we turn them into numeric values that can represent different levels or groups. This allows the regression model to understand and analyze the impact of these categorical variables on the outcome."
   ]
  },
  {
   "cell_type": "code",
   "execution_count": 56,
   "metadata": {},
   "outputs": [
    {
     "name": "stdout",
     "output_type": "stream",
     "text": [
      "Gender\n",
      "Female    86\n",
      "Male      78\n",
      "Name: count, dtype: int64\n",
      "Education\n",
      "Bachelor's Degree      42\n",
      "Master's Degree        36\n",
      "Doctorate              31\n",
      "High School Diploma    30\n",
      "Associate's Degree     25\n",
      "Name: count, dtype: int64\n",
      "Marital Status\n",
      "Married    87\n",
      "Single     77\n",
      "Name: count, dtype: int64\n",
      "Home Ownership\n",
      "Owned     111\n",
      "Rented     53\n",
      "Name: count, dtype: int64\n",
      "Credit Score\n",
      "High       113\n",
      "Average     36\n",
      "Low         15\n",
      "Name: count, dtype: int64\n"
     ]
    }
   ],
   "source": [
    "# check variables\n",
    "for col in df.select_dtypes('object'):\n",
    "    print(df[col].value_counts())"
   ]
  },
  {
   "cell_type": "code",
   "execution_count": 58,
   "metadata": {},
   "outputs": [
    {
     "data": {
      "text/html": [
       "<div>\n",
       "<style scoped>\n",
       "    .dataframe tbody tr th:only-of-type {\n",
       "        vertical-align: middle;\n",
       "    }\n",
       "\n",
       "    .dataframe tbody tr th {\n",
       "        vertical-align: top;\n",
       "    }\n",
       "\n",
       "    .dataframe thead th {\n",
       "        text-align: right;\n",
       "    }\n",
       "</style>\n",
       "<table border=\"1\" class=\"dataframe\">\n",
       "  <thead>\n",
       "    <tr style=\"text-align: right;\">\n",
       "      <th></th>\n",
       "      <th>Age</th>\n",
       "      <th>Gender</th>\n",
       "      <th>Income</th>\n",
       "      <th>Education</th>\n",
       "      <th>Marital Status</th>\n",
       "      <th>Number of Children</th>\n",
       "      <th>Home Ownership</th>\n",
       "      <th>Credit Score</th>\n",
       "    </tr>\n",
       "  </thead>\n",
       "  <tbody>\n",
       "    <tr>\n",
       "      <th>0</th>\n",
       "      <td>25</td>\n",
       "      <td>Female</td>\n",
       "      <td>50000</td>\n",
       "      <td>Bachelor's Degree</td>\n",
       "      <td>Single</td>\n",
       "      <td>0</td>\n",
       "      <td>Rented</td>\n",
       "      <td>1</td>\n",
       "    </tr>\n",
       "    <tr>\n",
       "      <th>1</th>\n",
       "      <td>30</td>\n",
       "      <td>Male</td>\n",
       "      <td>100000</td>\n",
       "      <td>Master's Degree</td>\n",
       "      <td>Married</td>\n",
       "      <td>2</td>\n",
       "      <td>Owned</td>\n",
       "      <td>1</td>\n",
       "    </tr>\n",
       "    <tr>\n",
       "      <th>2</th>\n",
       "      <td>35</td>\n",
       "      <td>Female</td>\n",
       "      <td>75000</td>\n",
       "      <td>Doctorate</td>\n",
       "      <td>Married</td>\n",
       "      <td>1</td>\n",
       "      <td>Owned</td>\n",
       "      <td>1</td>\n",
       "    </tr>\n",
       "    <tr>\n",
       "      <th>3</th>\n",
       "      <td>40</td>\n",
       "      <td>Male</td>\n",
       "      <td>125000</td>\n",
       "      <td>High School Diploma</td>\n",
       "      <td>Single</td>\n",
       "      <td>0</td>\n",
       "      <td>Owned</td>\n",
       "      <td>1</td>\n",
       "    </tr>\n",
       "    <tr>\n",
       "      <th>4</th>\n",
       "      <td>45</td>\n",
       "      <td>Female</td>\n",
       "      <td>100000</td>\n",
       "      <td>Bachelor's Degree</td>\n",
       "      <td>Married</td>\n",
       "      <td>3</td>\n",
       "      <td>Owned</td>\n",
       "      <td>1</td>\n",
       "    </tr>\n",
       "  </tbody>\n",
       "</table>\n",
       "</div>"
      ],
      "text/plain": [
       "   Age  Gender  Income            Education Marital Status  \\\n",
       "0   25  Female   50000    Bachelor's Degree         Single   \n",
       "1   30    Male  100000      Master's Degree        Married   \n",
       "2   35  Female   75000            Doctorate        Married   \n",
       "3   40    Male  125000  High School Diploma         Single   \n",
       "4   45  Female  100000    Bachelor's Degree        Married   \n",
       "\n",
       "   Number of Children Home Ownership  Credit Score  \n",
       "0                   0         Rented             1  \n",
       "1                   2          Owned             1  \n",
       "2                   1          Owned             1  \n",
       "3                   0          Owned             1  \n",
       "4                   3          Owned             1  "
      ]
     },
     "execution_count": 58,
     "metadata": {},
     "output_type": "execute_result"
    }
   ],
   "source": [
    "# Categorize cridit score variable\n",
    "df['Credit Score'] = df['Credit Score'].replace({'High':1, 'Average':0, 'Low':0})\n",
    "df.head()"
   ]
  },
  {
   "cell_type": "code",
   "execution_count": 60,
   "metadata": {},
   "outputs": [],
   "source": [
    "# variable categorization\n",
    "lab =  LabelEncoder()\n",
    "\n",
    "obj = df.select_dtypes(include='object')\n",
    "non_obj = df.select_dtypes(exclude='object')\n",
    "\n",
    "for i in range(0, obj.shape[1]):\n",
    "    obj.iloc[:, i] = lab.fit_transform(obj.iloc[:,i])"
   ]
  },
  {
   "cell_type": "code",
   "execution_count": 62,
   "metadata": {},
   "outputs": [
    {
     "data": {
      "text/html": [
       "<div>\n",
       "<style scoped>\n",
       "    .dataframe tbody tr th:only-of-type {\n",
       "        vertical-align: middle;\n",
       "    }\n",
       "\n",
       "    .dataframe tbody tr th {\n",
       "        vertical-align: top;\n",
       "    }\n",
       "\n",
       "    .dataframe thead th {\n",
       "        text-align: right;\n",
       "    }\n",
       "</style>\n",
       "<table border=\"1\" class=\"dataframe\">\n",
       "  <thead>\n",
       "    <tr style=\"text-align: right;\">\n",
       "      <th></th>\n",
       "      <th>Gender</th>\n",
       "      <th>Education</th>\n",
       "      <th>Marital Status</th>\n",
       "      <th>Home Ownership</th>\n",
       "      <th>Age</th>\n",
       "      <th>Income</th>\n",
       "      <th>Number of Children</th>\n",
       "      <th>Credit Score</th>\n",
       "    </tr>\n",
       "  </thead>\n",
       "  <tbody>\n",
       "    <tr>\n",
       "      <th>0</th>\n",
       "      <td>0</td>\n",
       "      <td>1</td>\n",
       "      <td>1</td>\n",
       "      <td>1</td>\n",
       "      <td>25</td>\n",
       "      <td>50000</td>\n",
       "      <td>0</td>\n",
       "      <td>1</td>\n",
       "    </tr>\n",
       "    <tr>\n",
       "      <th>1</th>\n",
       "      <td>1</td>\n",
       "      <td>4</td>\n",
       "      <td>0</td>\n",
       "      <td>0</td>\n",
       "      <td>30</td>\n",
       "      <td>100000</td>\n",
       "      <td>2</td>\n",
       "      <td>1</td>\n",
       "    </tr>\n",
       "    <tr>\n",
       "      <th>2</th>\n",
       "      <td>0</td>\n",
       "      <td>2</td>\n",
       "      <td>0</td>\n",
       "      <td>0</td>\n",
       "      <td>35</td>\n",
       "      <td>75000</td>\n",
       "      <td>1</td>\n",
       "      <td>1</td>\n",
       "    </tr>\n",
       "    <tr>\n",
       "      <th>3</th>\n",
       "      <td>1</td>\n",
       "      <td>3</td>\n",
       "      <td>1</td>\n",
       "      <td>0</td>\n",
       "      <td>40</td>\n",
       "      <td>125000</td>\n",
       "      <td>0</td>\n",
       "      <td>1</td>\n",
       "    </tr>\n",
       "    <tr>\n",
       "      <th>4</th>\n",
       "      <td>0</td>\n",
       "      <td>1</td>\n",
       "      <td>0</td>\n",
       "      <td>0</td>\n",
       "      <td>45</td>\n",
       "      <td>100000</td>\n",
       "      <td>3</td>\n",
       "      <td>1</td>\n",
       "    </tr>\n",
       "    <tr>\n",
       "      <th>...</th>\n",
       "      <td>...</td>\n",
       "      <td>...</td>\n",
       "      <td>...</td>\n",
       "      <td>...</td>\n",
       "      <td>...</td>\n",
       "      <td>...</td>\n",
       "      <td>...</td>\n",
       "      <td>...</td>\n",
       "    </tr>\n",
       "    <tr>\n",
       "      <th>159</th>\n",
       "      <td>0</td>\n",
       "      <td>3</td>\n",
       "      <td>1</td>\n",
       "      <td>1</td>\n",
       "      <td>29</td>\n",
       "      <td>27500</td>\n",
       "      <td>0</td>\n",
       "      <td>0</td>\n",
       "    </tr>\n",
       "    <tr>\n",
       "      <th>160</th>\n",
       "      <td>1</td>\n",
       "      <td>0</td>\n",
       "      <td>1</td>\n",
       "      <td>1</td>\n",
       "      <td>34</td>\n",
       "      <td>47500</td>\n",
       "      <td>0</td>\n",
       "      <td>0</td>\n",
       "    </tr>\n",
       "    <tr>\n",
       "      <th>161</th>\n",
       "      <td>0</td>\n",
       "      <td>1</td>\n",
       "      <td>0</td>\n",
       "      <td>0</td>\n",
       "      <td>39</td>\n",
       "      <td>62500</td>\n",
       "      <td>2</td>\n",
       "      <td>1</td>\n",
       "    </tr>\n",
       "    <tr>\n",
       "      <th>162</th>\n",
       "      <td>1</td>\n",
       "      <td>4</td>\n",
       "      <td>1</td>\n",
       "      <td>0</td>\n",
       "      <td>44</td>\n",
       "      <td>87500</td>\n",
       "      <td>0</td>\n",
       "      <td>1</td>\n",
       "    </tr>\n",
       "    <tr>\n",
       "      <th>163</th>\n",
       "      <td>0</td>\n",
       "      <td>2</td>\n",
       "      <td>0</td>\n",
       "      <td>0</td>\n",
       "      <td>49</td>\n",
       "      <td>77500</td>\n",
       "      <td>1</td>\n",
       "      <td>1</td>\n",
       "    </tr>\n",
       "  </tbody>\n",
       "</table>\n",
       "<p>164 rows × 8 columns</p>\n",
       "</div>"
      ],
      "text/plain": [
       "    Gender Education Marital Status Home Ownership  Age  Income  \\\n",
       "0        0         1              1              1   25   50000   \n",
       "1        1         4              0              0   30  100000   \n",
       "2        0         2              0              0   35   75000   \n",
       "3        1         3              1              0   40  125000   \n",
       "4        0         1              0              0   45  100000   \n",
       "..     ...       ...            ...            ...  ...     ...   \n",
       "159      0         3              1              1   29   27500   \n",
       "160      1         0              1              1   34   47500   \n",
       "161      0         1              0              0   39   62500   \n",
       "162      1         4              1              0   44   87500   \n",
       "163      0         2              0              0   49   77500   \n",
       "\n",
       "     Number of Children  Credit Score  \n",
       "0                     0             1  \n",
       "1                     2             1  \n",
       "2                     1             1  \n",
       "3                     0             1  \n",
       "4                     3             1  \n",
       "..                  ...           ...  \n",
       "159                   0             0  \n",
       "160                   0             0  \n",
       "161                   2             1  \n",
       "162                   0             1  \n",
       "163                   1             1  \n",
       "\n",
       "[164 rows x 8 columns]"
      ]
     },
     "execution_count": 62,
     "metadata": {},
     "output_type": "execute_result"
    }
   ],
   "source": [
    "# joins the datasets\n",
    "df_credit = pd.concat([obj, non_obj], axis=1)\n",
    "df_credit"
   ]
  },
  {
   "cell_type": "markdown",
   "metadata": {},
   "source": [
    "Normalization adjusts data to a common scale, usually from 0 to 1, so that each feature contributes equally to the analysis. This makes it easier to compare and combine different features in models, ensuring no single feature dominates due to its scale"
   ]
  },
  {
   "cell_type": "code",
   "execution_count": 65,
   "metadata": {},
   "outputs": [],
   "source": [
    "# Initialize MinMaxScaler\n",
    "minmax = MinMaxScaler()\n"
   ]
  },
  {
   "cell_type": "code",
   "execution_count": 67,
   "metadata": {},
   "outputs": [
    {
     "name": "stdout",
     "output_type": "stream",
     "text": [
      "     Gender  Education  Marital Status  Home Ownership       Age    Income  \\\n",
      "0       0.0       0.25             1.0             1.0  0.000000  0.181818   \n",
      "1       1.0       1.00             0.0             0.0  0.178571  0.545455   \n",
      "2       0.0       0.50             0.0             0.0  0.357143  0.363636   \n",
      "3       1.0       0.75             1.0             0.0  0.535714  0.727273   \n",
      "4       0.0       0.25             0.0             0.0  0.714286  0.545455   \n",
      "..      ...        ...             ...             ...       ...       ...   \n",
      "159     0.0       0.75             1.0             1.0  0.142857  0.018182   \n",
      "160     1.0       0.00             1.0             1.0  0.321429  0.163636   \n",
      "161     0.0       0.25             0.0             0.0  0.500000  0.272727   \n",
      "162     1.0       1.00             1.0             0.0  0.678571  0.454545   \n",
      "163     0.0       0.50             0.0             0.0  0.857143  0.381818   \n",
      "\n",
      "     Number of Children  Credit Score  \n",
      "0              0.000000           1.0  \n",
      "1              0.666667           1.0  \n",
      "2              0.333333           1.0  \n",
      "3              0.000000           1.0  \n",
      "4              1.000000           1.0  \n",
      "..                  ...           ...  \n",
      "159            0.000000           0.0  \n",
      "160            0.000000           0.0  \n",
      "161            0.666667           1.0  \n",
      "162            0.000000           1.0  \n",
      "163            0.333333           1.0  \n",
      "\n",
      "[164 rows x 8 columns]\n"
     ]
    }
   ],
   "source": [
    "# list of columns to scale\n",
    "cols = df_credit.columns\n",
    "\n",
    "# apply MinMaxScaler to each colum\n",
    "for col in cols:\n",
    "    df_credit[col] = minmax.fit_transform(df_credit[[col]])\n",
    "\n",
    "# Display the DataFrame\n",
    "print(df_credit)"
   ]
  },
  {
   "cell_type": "markdown",
   "metadata": {},
   "source": [
    "Correlation measures how two variables change together. If one goes up as the other goes up, they have a positive correlation. If one goes up while the other goes down, they have a negative correlation. It helps us understand the strength and direction of their relationship."
   ]
  },
  {
   "cell_type": "code",
   "execution_count": 72,
   "metadata": {},
   "outputs": [
    {
     "data": {
      "text/html": [
       "<div>\n",
       "<style scoped>\n",
       "    .dataframe tbody tr th:only-of-type {\n",
       "        vertical-align: middle;\n",
       "    }\n",
       "\n",
       "    .dataframe tbody tr th {\n",
       "        vertical-align: top;\n",
       "    }\n",
       "\n",
       "    .dataframe thead th {\n",
       "        text-align: right;\n",
       "    }\n",
       "</style>\n",
       "<table border=\"1\" class=\"dataframe\">\n",
       "  <thead>\n",
       "    <tr style=\"text-align: right;\">\n",
       "      <th></th>\n",
       "      <th>Gender</th>\n",
       "      <th>Education</th>\n",
       "      <th>Marital Status</th>\n",
       "      <th>Home Ownership</th>\n",
       "      <th>Age</th>\n",
       "      <th>Income</th>\n",
       "      <th>Number of Children</th>\n",
       "      <th>Credit Score</th>\n",
       "    </tr>\n",
       "  </thead>\n",
       "  <tbody>\n",
       "    <tr>\n",
       "      <th>Gender</th>\n",
       "      <td>1.000000</td>\n",
       "      <td>0.248671</td>\n",
       "      <td>0.278362</td>\n",
       "      <td>-0.031519</td>\n",
       "      <td>0.235343</td>\n",
       "      <td>0.495738</td>\n",
       "      <td>-0.442139</td>\n",
       "      <td>0.085886</td>\n",
       "    </tr>\n",
       "    <tr>\n",
       "      <th>Education</th>\n",
       "      <td>0.248671</td>\n",
       "      <td>1.000000</td>\n",
       "      <td>-0.067797</td>\n",
       "      <td>-0.397043</td>\n",
       "      <td>0.170254</td>\n",
       "      <td>0.369449</td>\n",
       "      <td>0.047311</td>\n",
       "      <td>0.409495</td>\n",
       "    </tr>\n",
       "    <tr>\n",
       "      <th>Marital Status</th>\n",
       "      <td>0.278362</td>\n",
       "      <td>-0.067797</td>\n",
       "      <td>1.000000</td>\n",
       "      <td>0.708374</td>\n",
       "      <td>-0.517723</td>\n",
       "      <td>-0.471004</td>\n",
       "      <td>-0.696984</td>\n",
       "      <td>-0.661313</td>\n",
       "    </tr>\n",
       "    <tr>\n",
       "      <th>Home Ownership</th>\n",
       "      <td>-0.031519</td>\n",
       "      <td>-0.397043</td>\n",
       "      <td>0.708374</td>\n",
       "      <td>1.000000</td>\n",
       "      <td>-0.713803</td>\n",
       "      <td>-0.704928</td>\n",
       "      <td>-0.497129</td>\n",
       "      <td>-0.915900</td>\n",
       "    </tr>\n",
       "    <tr>\n",
       "      <th>Age</th>\n",
       "      <td>0.235343</td>\n",
       "      <td>0.170254</td>\n",
       "      <td>-0.517723</td>\n",
       "      <td>-0.713803</td>\n",
       "      <td>1.000000</td>\n",
       "      <td>0.699464</td>\n",
       "      <td>0.055390</td>\n",
       "      <td>0.707244</td>\n",
       "    </tr>\n",
       "    <tr>\n",
       "      <th>Income</th>\n",
       "      <td>0.495738</td>\n",
       "      <td>0.369449</td>\n",
       "      <td>-0.471004</td>\n",
       "      <td>-0.704928</td>\n",
       "      <td>0.699464</td>\n",
       "      <td>1.000000</td>\n",
       "      <td>0.084547</td>\n",
       "      <td>0.730332</td>\n",
       "    </tr>\n",
       "    <tr>\n",
       "      <th>Number of Children</th>\n",
       "      <td>-0.442139</td>\n",
       "      <td>0.047311</td>\n",
       "      <td>-0.696984</td>\n",
       "      <td>-0.497129</td>\n",
       "      <td>0.055390</td>\n",
       "      <td>0.084547</td>\n",
       "      <td>1.000000</td>\n",
       "      <td>0.452844</td>\n",
       "    </tr>\n",
       "    <tr>\n",
       "      <th>Credit Score</th>\n",
       "      <td>0.085886</td>\n",
       "      <td>0.409495</td>\n",
       "      <td>-0.661313</td>\n",
       "      <td>-0.915900</td>\n",
       "      <td>0.707244</td>\n",
       "      <td>0.730332</td>\n",
       "      <td>0.452844</td>\n",
       "      <td>1.000000</td>\n",
       "    </tr>\n",
       "  </tbody>\n",
       "</table>\n",
       "</div>"
      ],
      "text/plain": [
       "                      Gender  Education  Marital Status  Home Ownership  \\\n",
       "Gender              1.000000   0.248671        0.278362       -0.031519   \n",
       "Education           0.248671   1.000000       -0.067797       -0.397043   \n",
       "Marital Status      0.278362  -0.067797        1.000000        0.708374   \n",
       "Home Ownership     -0.031519  -0.397043        0.708374        1.000000   \n",
       "Age                 0.235343   0.170254       -0.517723       -0.713803   \n",
       "Income              0.495738   0.369449       -0.471004       -0.704928   \n",
       "Number of Children -0.442139   0.047311       -0.696984       -0.497129   \n",
       "Credit Score        0.085886   0.409495       -0.661313       -0.915900   \n",
       "\n",
       "                         Age    Income  Number of Children  Credit Score  \n",
       "Gender              0.235343  0.495738           -0.442139      0.085886  \n",
       "Education           0.170254  0.369449            0.047311      0.409495  \n",
       "Marital Status     -0.517723 -0.471004           -0.696984     -0.661313  \n",
       "Home Ownership     -0.713803 -0.704928           -0.497129     -0.915900  \n",
       "Age                 1.000000  0.699464            0.055390      0.707244  \n",
       "Income              0.699464  1.000000            0.084547      0.730332  \n",
       "Number of Children  0.055390  0.084547            1.000000      0.452844  \n",
       "Credit Score        0.707244  0.730332            0.452844      1.000000  "
      ]
     },
     "execution_count": 72,
     "metadata": {},
     "output_type": "execute_result"
    }
   ],
   "source": [
    "# correlations review\n",
    "cor = df_credit.corr()\n",
    "cor"
   ]
  },
  {
   "cell_type": "markdown",
   "metadata": {},
   "source": [
    "#### Split dataset\n",
    "Create dataset for train and test model.\n"
   ]
  },
  {
   "cell_type": "code",
   "execution_count": 81,
   "metadata": {},
   "outputs": [],
   "source": [
    "# Dependent and independent split\n",
    "X = df_credit.drop('Credit Score', axis=1)\n",
    "y = df_credit[\"Credit Score\"]"
   ]
  },
  {
   "cell_type": "code",
   "execution_count": 83,
   "metadata": {},
   "outputs": [],
   "source": [
    "# Train and test datasets\n",
    "X_train, X_test, y_train, y_test = train_test_split(X, y, test_size=0.3, random_state=42, shuffle=True)"
   ]
  },
  {
   "cell_type": "markdown",
   "metadata": {},
   "source": [
    "#### Model and results\n",
    "\n",
    "Logistic regression predict the probability of an outcome that falls into one of two categories, like default or no default."
   ]
  },
  {
   "cell_type": "code",
   "execution_count": 86,
   "metadata": {},
   "outputs": [],
   "source": [
    "# model \n",
    "lr = LogisticRegression(penalty='l2', dual=False, tol=0.0001,\n",
    "                        C=1.0, fit_intercept=True, intercept_scaling=1,\n",
    "                        class_weight=None, random_state=None, solver='lbfgs',\n",
    "                         max_iter=100)\n"
   ]
  },
  {
   "cell_type": "code",
   "execution_count": 88,
   "metadata": {},
   "outputs": [],
   "source": [
    "def predictor_model(model_name: Any) -> None:\n",
    "    \"\"\"\n",
    "    Trains the given model and prints the accuracy on both the training and test datasets.\n",
    "\n",
    "    Args:\n",
    "        model_name (Any): The machine learning model to be trained and evaluated.\n",
    "\n",
    "    Returns:\n",
    "        None\n",
    "    \"\"\"\n",
    "    print('For the {}'.format(model_name))\n",
    "    print(\"--\" * 50)\n",
    "\n",
    "    model_name.fit(X_train, y_train)\n",
    "    y_pred_train = model_name.predict(X_train)\n",
    "    y_pred_test  = model_name.predict(X_test)\n",
    "\n",
    "    # Accuracy\n",
    "    print(\"The train accuracy is\", accuracy_score(y_train, y_pred_train))\n",
    "    print(\"--\" * 50)\n",
    "    print(\"The test accuracy is\", accuracy_score(y_test, y_pred_test))\n",
    "\n",
    "    plt.show()\n"
   ]
  },
  {
   "cell_type": "markdown",
   "metadata": {},
   "source": [
    "Accuracy measures how often a classification model correctly predicts the outcome. It’s the percentage of correct predictions out of all predictions made. High accuracy means the model performs well, while low accuracy suggests it might need improvements."
   ]
  },
  {
   "cell_type": "code",
   "execution_count": 91,
   "metadata": {},
   "outputs": [
    {
     "name": "stdout",
     "output_type": "stream",
     "text": [
      "For the LogisticRegression()\n",
      "----------------------------------------------------------------------------------------------------\n",
      "The train accuracy is 0.9824561403508771\n",
      "----------------------------------------------------------------------------------------------------\n",
      "The test accuracy is 0.94\n"
     ]
    }
   ],
   "source": [
    "predictor_model(lr)"
   ]
  },
  {
   "cell_type": "markdown",
   "metadata": {},
   "source": [
    "\n",
    "A confusion matrix shows how well a classification model predicts outcomes. It displays four numbers: true positives (correctly predicted positives), false positives (incorrectly predicted positives), true negatives (correctly predicted negatives), and false negatives (incorrectly predicted negatives). By analyzing these numbers, you can understand the model's performance better. For example, a high number of true positives means the model is good at identifying the positive class, while many false positives or false negatives suggest the model might need adjustments to improve accuracy."
   ]
  },
  {
   "cell_type": "code",
   "execution_count": 34,
   "metadata": {},
   "outputs": [
    {
     "name": "stdout",
     "output_type": "stream",
     "text": [
      "[[16  2]\n",
      " [ 1 31]]\n"
     ]
    },
    {
     "data": {
      "text/plain": [
       "<Axes: >"
      ]
     },
     "execution_count": 34,
     "metadata": {},
     "output_type": "execute_result"
    },
    {
     "data": {
      "image/png": "[encoded data removed]",
      "text/plain": [
       "<Figure size 640x480 with 2 Axes>"
      ]
     },
     "metadata": {},
     "output_type": "display_data"
    }
   ],
   "source": [
    "# Check the results\n",
    "y_pred = lr.predict(X_test)\n",
    "\n",
    "# confussion matrix\n",
    "confusion_matrix_model=confusion_matrix(y_test,y_pred)\n",
    "print(confusion_matrix_model)\n",
    "sns.heatmap(confusion_matrix_model,annot=True,cmap='Blues')"
   ]
  },
  {
   "cell_type": "markdown",
   "metadata": {},
   "source": [
    "### Observations\n",
    "\n",
    "* The logistic regression model shows consistent performance on both the train and test datasets, as evidenced by accuracy values exceeding 98% and 94%, respectively. Also, confussion matrix show a good performance of the model, due to true positive (1,1) and true negative (0,0) have the mayor participation of the data.\n",
    "\n",
    "* Transformations of the variables, such as normalization, help the model better understand the data and prevent issues related to the dimensions of the variables.\n",
    "\n",
    "* Logistic regression is quite efficient with financial data and linear relationships."
   ]
  },
  {
   "cell_type": "markdown",
   "metadata": {},
   "source": [
    "## Bibliografia\n",
    "\n",
    " * https://www.analyticsvidhya.com/blog/2021/08/conceptual-understanding-of-logistic-regression-for-data-science-beginners/\n",
    "\n",
    " * Kaggle dataset: https://www.kaggle.com/datasets/sujithmandala/credit-score-classification-dataset\n"
   ]
  },
  {
   "cell_type": "code",
   "execution_count": null,
   "metadata": {},
   "outputs": [],
   "source": []
  }
 ],
 "metadata": {
  "kernelspec": {
   "display_name": "Python 3 (ipykernel)",
   "language": "python",
   "name": "python3"
  },
  "language_info": {
   "codemirror_mode": {
    "name": "ipython",
    "version": 3
   },
   "file_extension": ".py",
   "mimetype": "text/x-python",
   "name": "python",
   "nbconvert_exporter": "python",
   "pygments_lexer": "ipython3",
   "version": "3.10.12"
  }
 },
 "nbformat": 4,
 "nbformat_minor": 4
}
